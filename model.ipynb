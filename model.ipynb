{
 "cells": [
  {
   "cell_type": "code",
   "execution_count": 20,
   "metadata": {},
   "outputs": [],
   "source": [
    "from tensorflow import keras\n",
    "import cv2\n",
    "import numpy as np"
   ]
  },
  {
   "cell_type": "code",
   "execution_count": 18,
   "metadata": {},
   "outputs": [],
   "source": [
    "model = keras.models.load_model('./model/model.h5')"
   ]
  },
  {
   "cell_type": "code",
   "execution_count": 19,
   "metadata": {},
   "outputs": [
    {
     "name": "stdout",
     "output_type": "stream",
     "text": [
      "1/1 [==============================] - 0s 106ms/step\n",
      "Prediction: NonDemented\n"
     ]
    }
   ],
   "source": [
    "categories = [\"NonDemented\", \"MildDemented\", \"ModerateDemented\", \"VeryMildDemented\"]\n",
    "\n",
    "images = []\n",
    "data = cv2.imread(\"./test2.jpg\",cv2.IMREAD_GRAYSCALE)\n",
    "new_data = cv2.resize(data,(120,120),interpolation=cv2.INTER_AREA)\n",
    "new_data = new_data / 255.0\n",
    "images.append(new_data)\n",
    "\n",
    "for img in images:\n",
    "    image = np.array(img).reshape(-1,120,120)\n",
    "    prediction = model.predict(image)\n",
    "    ptitle = \"Prediction: {0}\".format(categories[np.argmax(prediction)])\n",
    "    print(ptitle)"
   ]
  }
 ],
 "metadata": {
  "kernelspec": {
   "display_name": "Python 3",
   "language": "python",
   "name": "python3"
  },
  "language_info": {
   "codemirror_mode": {
    "name": "ipython",
    "version": 3
   },
   "file_extension": ".py",
   "mimetype": "text/x-python",
   "name": "python",
   "nbconvert_exporter": "python",
   "pygments_lexer": "ipython3",
   "version": "3.9.2"
  },
  "orig_nbformat": 4
 },
 "nbformat": 4,
 "nbformat_minor": 2
}
